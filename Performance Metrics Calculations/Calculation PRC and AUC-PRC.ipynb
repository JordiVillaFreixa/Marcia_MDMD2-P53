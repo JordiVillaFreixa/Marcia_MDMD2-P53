{
 "cells": [
  {
   "cell_type": "code",
   "execution_count": null,
   "id": "42a4cc0a-63eb-478e-bb0d-b4537c19823c",
   "metadata": {},
   "outputs": [],
   "source": [
    "import os\n",
    "import pandas as pd\n",
    "from sklearn.metrics import precision_recall_curve, auc\n",
    "\n",
    "# Read the generated CSV file\n",
    "csv_file = \"RF-run2.csv\"  # Path to the output file from each run (VSBS) of each ML model saved as .csv in its respective folder\n",
    "plec_result_dnn = pd.read_csv(csv_file)\n",
    "\n",
    "# Check if the required columns exist\n",
    "if 'Active_Prob' not in plec_result_dnn.columns or 'Real_Class' not in plec_result_dnn.columns:\n",
    "    raise ValueError(\"The CSV file does not contain the required columns: 'Active_Prob' and 'Real_Class'.\")\n",
    "\n",
    "# Calculate precision and recall\n",
    "try:\n",
    "    precision_plec_dnn, recall_plec_dnn, threshold_plec_dnn = precision_recall_curve(\n",
    "        plec_result_dnn['Real_Class'],       # True labels\n",
    "        plec_result_dnn['Active_Prob'],      # Predicted probabilities\n",
    "        pos_label='Active'                   # Positive class\n",
    "    )\n",
    "    \n",
    "    # Save precision and recall to a CSV file\n",
    "    precision_recall_df = pd.DataFrame({\n",
    "        \"Precision\": precision_plec_dnn,\n",
    "        \"Recall\": recall_plec_dnn\n",
    "    })\n",
    "    precision_recall_filename = \"RF-GRID-PRECISION-RECALL.csv\"  # Path to save the calculated precision-recall curve results\n",
    "    precision_recall_df.to_csv(precision_recall_filename, index=False)\n",
    "    print(f\"Precision and recall file saved as {precision_recall_filename}\")\n",
    "    \n",
    "    # Calculate the AUC of the Precision-Recall Curve\n",
    "    auc_pr = auc(recall_plec_dnn, precision_plec_dnn)\n",
    "\n",
    "    # Ensure the output folder exists\n",
    "    os.makedirs(\"OTS\", exist_ok=True)\n",
    "    \n",
    "    # Save AUC value to a CSV file\n",
    "    auc_filename = \"RF-GRID-AUC.csv\"  # Path to save the calculated AUC result\n",
    "    auc_df = pd.DataFrame({\"AUC\": [auc_pr]})\n",
    "    auc_df.to_csv(auc_filename, index=False)\n",
    "    print(f\"AUC file saved as {auc_filename}\")\n",
    "\n",
    "except Exception as e:\n",
    "    print(f\"Error while calculating precision-recall: {str(e)}\")\n"
   ]
  }
 ],
 "metadata": {
  "kernelspec": {
   "display_name": "Python 3 (ipykernel)",
   "language": "python",
   "name": "python3"
  },
  "language_info": {
   "codemirror_mode": {
    "name": "ipython",
    "version": 3
   },
   "file_extension": ".py",
   "mimetype": "text/x-python",
   "name": "python",
   "nbconvert_exporter": "python",
   "pygments_lexer": "ipython3",
   "version": "3.11.8"
  }
 },
 "nbformat": 4,
 "nbformat_minor": 5
}
